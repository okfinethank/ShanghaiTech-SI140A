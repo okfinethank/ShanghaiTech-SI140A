{
 "cells": [
  {
   "cell_type": "markdown",
   "metadata": {},
   "source": [
    "# Problem 4"
   ]
  },
  {
   "cell_type": "markdown",
   "metadata": {},
   "source": [
    "1. Using the first strategy (never-switch), you can win the car if and only if you choose the car-concealing door at the beginning, which has probability $\\frac{1}{n}$.  \n",
    "2. Using the second strategy (always-switch), the wining probability is $-\\sum_{i=1}^{n} \\frac{(-1)^i}{i!}$ which approximates $1 - \\frac{1}{e} \\approx 0.632$ if $n \\rightarrow \\infty$.  \n",
    "3. Using the third stratgy (switch-at-the-last-minute, SLM), you win the car if you choose a goat-concealing door at the beginning, which has probability $\\frac{n - 1}{n}$.  \n",
    "\n",
    "In the following, we verify the answers in simulations."
   ]
  },
  {
   "cell_type": "code",
   "execution_count": 15,
   "metadata": {},
   "outputs": [],
   "source": [
    "import math\n",
    "import numpy as np\n",
    "import matplotlib.pyplot as plt\n",
    "\n",
    "def Monty_Hall_N(n, strategy, num_repeats):\n",
    "    num_wins = 0\n",
    "    for i in range(num_repeats):\n",
    "        # 0 means car and 1, 2, ..., n - 1 means goats\n",
    "        active_doors = set(range(n))\n",
    "        cur_choice = random.choice(list(active_doors))\n",
    "        while len(active_doors) > 3:\n",
    "            if cur_choice == 0:\n",
    "                monty_opens = random.choice(list(active_doors - set([0])))\n",
    "            else:\n",
    "                monty_opens = random.choice(list(active_doors - set([0, cur_choice])))\n",
    "            active_doors -= set([monty_opens])\n",
    "\n",
    "            if strategy == 'always-switch':\n",
    "                cur_choice = random.choice(list(active_doors - set([cur_choice])))\n",
    "        \n",
    "        if cur_choice == 0:\n",
    "            if strategy == 'never-switch':\n",
    "                num_wins += 1\n",
    "        else:  # cur_choice != 0\n",
    "            if strategy == 'always-switch' or strategy == 'switch-at-the-last-minute':\n",
    "                num_wins += 1\n",
    "\n",
    "    win_probability = round(num_wins/num_repeats, 6)\n",
    "    print(f\"The probability of win in {strategy} strategy is {win_probability}.\")"
   ]
  },
  {
   "cell_type": "code",
   "execution_count": 16,
   "metadata": {},
   "outputs": [
    {
     "name": "stdout",
     "output_type": "stream",
     "text": [
      "Given there are 4 doors:\n",
      "The probability of win in never-switch strategy is 0.2479.\n",
      "The probability of win in always-switch strategy is 0.6315.\n",
      "The probability of win in switch-at-the-last-minute strategy is 0.756.\n"
     ]
    }
   ],
   "source": [
    "n = 4\n",
    "print(f\"Given there are {n} doors:\")\n",
    "Monty_Hall_N(n, 'never-switch', 10000)\n",
    "Monty_Hall_N(n, 'always-switch', 10000)\n",
    "Monty_Hall_N(n, 'switch-at-the-last-minute', 10000)"
   ]
  },
  {
   "cell_type": "code",
   "execution_count": 17,
   "metadata": {},
   "outputs": [
    {
     "name": "stdout",
     "output_type": "stream",
     "text": [
      "Given there are 100 doors:\n",
      "The probability of win in never-switch strategy is 0.0116.\n",
      "The probability of win in always-switch strategy is 0.6357.\n",
      "The probability of win in switch-at-the-last-minute strategy is 0.9895.\n"
     ]
    }
   ],
   "source": [
    "n = 100\n",
    "print(f\"Given there are {n} doors:\")\n",
    "Monty_Hall_N(100, 'never-switch', 10000)\n",
    "Monty_Hall_N(100, 'always-switch', 10000)\n",
    "Monty_Hall_N(100, 'switch-at-the-last-minute', 10000)"
   ]
  },
  {
   "cell_type": "markdown",
   "metadata": {},
   "source": [
    "The simulation results match the theoretical analysis and we should follow the strategy of *switch-at-the-last-minute* to obtain higher winning probability. "
   ]
  }
 ],
 "metadata": {
  "kernelspec": {
   "display_name": "Python 3 (ipykernel)",
   "language": "python",
   "name": "python3"
  },
  "language_info": {
   "codemirror_mode": {
    "name": "ipython",
    "version": 3
   },
   "file_extension": ".py",
   "mimetype": "text/x-python",
   "name": "python",
   "nbconvert_exporter": "python",
   "pygments_lexer": "ipython3",
   "version": "3.7.13"
  },
  "vscode": {
   "interpreter": {
    "hash": "1bebf3f1597cfcbbb71d8e669ae62d9497d1f382b0fcc60681887216f980f213"
   }
  }
 },
 "nbformat": 4,
 "nbformat_minor": 2
}
