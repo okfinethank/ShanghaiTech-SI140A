{
 "cells": [
  {
   "cell_type": "markdown",
   "metadata": {},
   "source": [
    "# Problem 1"
   ]
  },
  {
   "cell_type": "code",
   "execution_count": 9,
   "metadata": {},
   "outputs": [
    {
     "name": "stdout",
     "output_type": "stream",
     "text": [
      "Empirical mean 0.9998 empriical variance:  1.0213999599999999\n",
      "P(N = 0 ) = 0.3704\n",
      "P(N = 1 ) = 0.3682\n",
      "P(N = 2 ) = 0.1782\n",
      "P(N = 3 ) = 0.0626\n"
     ]
    }
   ],
   "source": [
    "import math\n",
    "import numpy as np\n",
    "import matplotlib.pyplot as plt\n",
    "\n",
    "p = math.exp(-1)\n",
    "num_samples = 5000\n",
    "N = np.zeros(num_samples)\n",
    "\n",
    "for i in range(num_samples):\n",
    "    accumulatedd_u = np.random.rand()\n",
    "    while accumulatedd_u >= p:\n",
    "        accumulatedd_u *= np.random.rand()\n",
    "        N[i] += 1\n",
    "\n",
    "print('Empirical mean', np.mean(N),'empriical variance: ', np.var(N))\n",
    "\n",
    "for i in range(4):\n",
    "    prob = (N==i).mean()\n",
    "    print('P(N =', i, ') =', prob)"
   ]
  },
  {
   "cell_type": "code",
   "execution_count": 10,
   "metadata": {},
   "outputs": [
    {
     "name": "stdout",
     "output_type": "stream",
     "text": [
      "The PDF of Poisson distribution:\n",
      "P(N = 0 ) = 0.36787944117144233\n",
      "P(N = 1 ) = 0.36787944117144233\n",
      "P(N = 2 ) = 0.18393972058572117\n",
      "P(N = 3 ) = 0.06131324019524039\n",
      "Mean: 1 Variance: 1\n"
     ]
    }
   ],
   "source": [
    "# Get the PDF of Poisson distribution\n",
    "print('The PDF of Poisson distribution:')\n",
    "lambda_ = 1\n",
    "\n",
    "for i in range(4):\n",
    "    prob = math.exp(-lambda_)*lambda_**i/math.factorial(i)\n",
    "    print('P(N =', i, ') =', prob)\n",
    "\n",
    "print('Mean:', lambda_, 'Variance:', lambda_)"
   ]
  },
  {
   "cell_type": "markdown",
   "metadata": {},
   "source": [
    "Firstly, from the simulation results and the theoretical value of Possion distribution, we can tell this is Possion distribution. Then it's also make sense to tell the story. We know that Possion distribution is a discrete probability distribution that expresses the probability of a given number of events occurring in a fixed interval of time. Here we can consider $e^{-1}$ as the fixed time interval and the coming rate is the mean of uniform distribution."
   ]
  }
 ],
 "metadata": {
  "kernelspec": {
   "display_name": "Python 3 (ipykernel)",
   "language": "python",
   "name": "python3"
  },
  "language_info": {
   "codemirror_mode": {
    "name": "ipython",
    "version": 3
   },
   "file_extension": ".py",
   "mimetype": "text/x-python",
   "name": "python",
   "nbconvert_exporter": "python",
   "pygments_lexer": "ipython3",
   "version": "3.7.13"
  },
  "vscode": {
   "interpreter": {
    "hash": "1bebf3f1597cfcbbb71d8e669ae62d9497d1f382b0fcc60681887216f980f213"
   }
  }
 },
 "nbformat": 4,
 "nbformat_minor": 2
}
