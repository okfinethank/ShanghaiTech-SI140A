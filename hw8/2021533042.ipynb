{
 "cells": [
  {
   "attachments": {},
   "cell_type": "markdown",
   "metadata": {},
   "source": [
    "# Probability & Statistics for EECS:\n",
    "\n",
    "# Homework \\#08\n",
    "\n",
    "\n",
    "\n",
    "\n",
    "Due on April 09, 2023 at 23:59\n",
    "\n",
    "\n",
    "\n",
    "\n",
    "Name: **Zhou Shouchen**\n",
    "\n",
    "Student ID: 2021533042"
   ]
  },
  {
   "attachments": {},
   "cell_type": "markdown",
   "metadata": {},
   "source": [
    "# Problem 1\n",
    "\n",
    "From the Universality of Uniform.\n",
    "\n",
    "Let $U\\sim Unif(0,1)$, and F be the CDF of a continous function and strictly incearing on the supoort.\n",
    "(It is clear and easy to verify that the CDF functions F in (a), (b), (c) are meeting the requirements).\n",
    "\n",
    "And let $X = F^{-1}(U)$, then $X$ is an r.v. with CDF F.\n",
    "\n",
    "So we can do some sample to the Uniform distribution, and put them into $F^{-1}(x)$.\n",
    "\n",
    "Then we can get the PDF with the method of inverse transform sampling, and plot it with blue histogram.\n",
    "\n",
    "For comparson, we can directly plot the PDF by plotting the function $f(x) = F'(x)$ in orange line."
   ]
  },
  {
   "attachments": {},
   "cell_type": "markdown",
   "metadata": {},
   "source": [
    "(a) From what we have learned, the logistic distribution has CDF $$F(x) = \\dfrac{1}{1+e^{-x}}$$\n",
    "\n",
    "And its PDF is $$f(x) = F'(x) = \\dfrac{-e^{-x}}{(1+e^{-x})^2}$$\n",
    "\n",
    "Let $y = F(x) = \\dfrac{1}{1+e^{-x}}$, then $e^{-x} = \\dfrac{1-y}{y}$,\n",
    "\n",
    "i.e. $x = -ln(\\dfrac{1-y}{y})$, so $x = ln(\\dfrac{y}{1-y})$.\n",
    "\n",
    "So the inverse funciton of its CDF is $$ F^{-1}(x) = ln(\\dfrac{x}{1-x})$$"
   ]
  },
  {
   "cell_type": "code",
   "execution_count": 1,
   "metadata": {},
   "outputs": [
    {
     "data": {
      "image/png": "[encoded data removed]",
      "text/plain": [
       "<Figure size 432x288 with 1 Axes>"
      ]
     },
     "metadata": {
      "needs_background": "light"
     },
     "output_type": "display_data"
    }
   ],
   "source": [
    "# (a) Logistic Distribution\n",
    "import numpy as np\n",
    "import matplotlib.pyplot as plt\n",
    "\n",
    "def logistic_PDF(x): # the PDF of the logistic distribution\n",
    "    return np.exp(-x) / (1 + np.exp(-x))**2\n",
    "\n",
    "def logistic_inverse(x): # the inverse of the logistic distribution\n",
    "    return np.log(x / (1 - x))\n",
    "\n",
    "def inverse_transform_sampling(sample_size): # inverse transform sampling\n",
    "    u = np.random.uniform(0, 1, sample_size) # uniform random numbers\n",
    "    return logistic_inverse(u)\n",
    "\n",
    "sample_size = 1000000\n",
    "\n",
    "x = np.linspace(-15, 15, 1000) # sample points for plotting pdf\n",
    "pdf = logistic_PDF(x) # pdf values at sample points\n",
    "\n",
    "# plot the histogram of the inverse transform sampling method\n",
    "plt.hist(inverse_transform_sampling(sample_size), bins = 100, density = True)\n",
    "\n",
    "# plot the pdf\n",
    "plt.plot(x, pdf)\n",
    "\n",
    "plt.xlabel('x')\n",
    "plt.ylabel('pdf')\n",
    "plt.title('Logistic Distribution')\n",
    "plt.legend(['logistic PDF','inverse method'])\n",
    "plt.show()"
   ]
  },
  {
   "attachments": {},
   "cell_type": "markdown",
   "metadata": {},
   "source": [
    "\n",
    "(b) From what we have learned, the Rayleigh distribution has CDF $$F(x) = \\dfrac{1}{1+e^{-x}},\\forall x > 0$$\n",
    "\n",
    "And its PDF is $$f(x) = F'(x) = x\\cdot e^{-\\frac{-x^2}{2}}$$\n",
    "\n",
    "Let $ y = F(x) = 1 - e^{\\frac{x^2}{2}}, \\forall x > 0$, then $e^{-\\frac{x^2}{2}}=1-y$\n",
    "\n",
    "i.e. $-\\dfrac{x^2}{2}=ln(1-y)$, and since $x>0$, so $x = \\sqrt{-2ln(1-y)}$\n",
    "\n",
    "So the inverse funciton of its CDF is $$ F^{-1}(x) = \\sqrt{-2ln(1-x)} $$"
   ]
  },
  {
   "cell_type": "code",
   "execution_count": 2,
   "metadata": {},
   "outputs": [
    {
     "data": {
      "image/png": "[encoded data removed]",
      "text/plain": [
       "<Figure size 432x288 with 1 Axes>"
      ]
     },
     "metadata": {
      "needs_background": "light"
     },
     "output_type": "display_data"
    }
   ],
   "source": [
    "# (b) Rayleigh Distribution\n",
    "\n",
    "import numpy as np\n",
    "import matplotlib.pyplot as plt\n",
    "\n",
    "def Rayleigh_PDF(x): # the PDF of the Rayleigh distribution\n",
    "    return x * np.exp(-x**2 / 2)\n",
    "\n",
    "def Rayleigh_inverse(x): # the inverse of the Rayleigh distribution\n",
    "    return np.sqrt(-2 * np.log(1 - x))\n",
    "\n",
    "def inverse_transform_sampling(sample_size): # inverse transform sampling\n",
    "    u = np.random.uniform(0, 1, sample_size) # uniform random numbers\n",
    "    return Rayleigh_inverse(u)\n",
    "\n",
    "sample_size = 1000000\n",
    "\n",
    "x = np.linspace(0, 10, 1000) # sample points for plotting pdf\n",
    "pdf = Rayleigh_PDF(x) # pdf values at sample points\n",
    "\n",
    "# plot the histogram of the inverse transform sampling method\n",
    "plt.hist(inverse_transform_sampling(sample_size), bins = 100, density = True)\n",
    "\n",
    "# plot the pdf\n",
    "plt.plot(x, pdf)\n",
    "\n",
    "plt.xlabel('x')\n",
    "plt.ylabel('pdf')\n",
    "plt.title('Rayleigh Distribution')\n",
    "plt.legend(['Rayleigh PDF','inverse method'])\n",
    "plt.show()"
   ]
  },
  {
   "attachments": {},
   "cell_type": "markdown",
   "metadata": {},
   "source": [
    "(c)  From what we have learned, the Exponential distribution has CDF $$F(x) = 1 - e^{-x}, \\forall x > 0$$\n",
    "\n",
    "And its PDF is $$f(x) = F'(x) = e^{-x}$$\n",
    "\n",
    "Let $ y = F(x) = 1 - e^{-x}, \\forall x > 0$, then $e^{-x}=1-y$\n",
    "\n",
    "i.e. $-x = ln(1-y)$, and since $x>0$, so $x = -ln(1-y) $\n",
    "\n",
    "So the inverse funciton of its CDF is $$ F^{-1}(x) = -ln(1-x) $$"
   ]
  },
  {
   "cell_type": "code",
   "execution_count": 3,
   "metadata": {},
   "outputs": [
    {
     "data": {
      "image/png": "[encoded data removed]",
      "text/plain": [
       "<Figure size 432x288 with 1 Axes>"
      ]
     },
     "metadata": {
      "needs_background": "light"
     },
     "output_type": "display_data"
    }
   ],
   "source": [
    "# (c) Exponential Distribution\n",
    "import numpy as np\n",
    "import matplotlib.pyplot as plt\n",
    "\n",
    "def exponential_PDF(x): # the PDF of the exponential distribution\n",
    "    return np.exp(-x)\n",
    "\n",
    "def exponential_inverse(x): # the inverse of the exponential distribution\n",
    "    return -np.log(1 - x)\n",
    "\n",
    "def inverse_transform_sampling(sample_size): # inverse transform sampling\n",
    "    u = np.random.uniform(0, 1, sample_size) # uniform random numbers\n",
    "    return exponential_inverse(u)\n",
    "\n",
    "sample_size = 1000000\n",
    "\n",
    "x = np.linspace(0, 10, 1000) # sample points for plotting pdf\n",
    "pdf = exponential_PDF(x) # pdf values at sample points\n",
    "\n",
    "# plot the histogram of the inverse transform sampling method\n",
    "plt.hist(inverse_transform_sampling(sample_size), bins = 100, density = True)\n",
    "\n",
    "# plot the pdf\n",
    "plt.plot(x, pdf)\n",
    "\n",
    "plt.xlabel('x')\n",
    "plt.ylabel('pdf')\n",
    "plt.title('exponential Distribution')\n",
    "plt.legend(['exponential PDF','inverse method'])\n",
    "plt.show()"
   ]
  },
  {
   "attachments": {},
   "cell_type": "markdown",
   "metadata": {},
   "source": [
    "So above all, we can see that the blue histogram suits the orange line quite well."
   ]
  },
  {
   "attachments": {},
   "cell_type": "markdown",
   "metadata": {},
   "source": [
    "# Problem 2\n"
   ]
  },
  {
   "attachments": {},
   "cell_type": "markdown",
   "metadata": {},
   "source": [
    "(a) For Bernouli distribution, let $X\\sim Bern(0.5)$.\n",
    "\n",
    "So $P(X=0) = 0.5, P(X=1) = 0.5$.\n",
    "\n",
    "And we can test this by generate a sequence of variable, and let $X=0$ when the variable is $\\leq 0.5$, and let $X=1$ otherwise.\n",
    "\n",
    "So we can get the probability with a lot of times simulation."
   ]
  },
  {
   "cell_type": "code",
   "execution_count": 4,
   "metadata": {},
   "outputs": [
    {
     "name": "stderr",
     "output_type": "stream",
     "text": [
      "100%|██████████| 1000000/1000000 [00:07<00:00, 139706.07it/s]\n"
     ]
    },
    {
     "data": {
      "image/png": "[encoded data removed]",
      "text/plain": [
       "<Figure size 432x288 with 1 Axes>"
      ]
     },
     "metadata": {
      "needs_background": "light"
     },
     "output_type": "display_data"
    }
   ],
   "source": [
    "# (a) Bernoulli distribution\n",
    "import seaborn as sns\n",
    "import numpy as np\n",
    "import tqdm\n",
    "import matplotlib.pyplot as plt\n",
    "\n",
    "def bernoulli(p):\n",
    "    x = np.random.uniform(0,1)\n",
    "    if x <= p:\n",
    "        return 0\n",
    "    else:\n",
    "        return 1\n",
    "\n",
    "n = 1000000\n",
    "x = np.zeros(n)\n",
    "for i in tqdm.tqdm(range(n)):\n",
    "    x[i] = bernoulli(0.5)\n",
    "\n",
    "ax = sns.histplot(x, stat = 'probability', bins = 'auto', discrete = True)\n",
    "ax.set_title('Bernoulli Distribution')\n",
    "ax.set_xlabel('x')\n",
    "plt.xticks(np.arange(0, 2))\n",
    "plt.show()"
   ]
  },
  {
   "attachments": {},
   "cell_type": "markdown",
   "metadata": {},
   "source": [
    "(b) For Binomial distribution, let $X\\sim Bin(20, 0.5)$.\n",
    "\n",
    "So $P(X=k) = {n\\choose k}p^kq^{n-k} = {20\\choose k}(0.5)^{20}$.\n",
    "\n",
    "We can regard $X$ as the time of successful Bernoulli tasks.\n",
    "\n",
    "i.e. $X_i\\sim Bern(0.5), X = \\sum\\limits_{i=1}^{20}X_i$\n",
    "\n",
    "So we can get the probability with a lot of times simulation."
   ]
  },
  {
   "cell_type": "code",
   "execution_count": 24,
   "metadata": {},
   "outputs": [
    {
     "name": "stderr",
     "output_type": "stream",
     "text": [
      "100%|██████████| 1000000/1000000 [00:58<00:00, 16967.14it/s]\n"
     ]
    },
    {
     "data": {
      "image/png": "[encoded data removed]",
      "text/plain": [
       "<Figure size 432x288 with 1 Axes>"
      ]
     },
     "metadata": {
      "needs_background": "light"
     },
     "output_type": "display_data"
    }
   ],
   "source": [
    "# (b) Binomial distribution\n",
    "import seaborn as sns\n",
    "import numpy as np\n",
    "import tqdm\n",
    "import matplotlib.pyplot as plt\n",
    "\n",
    "def bernoulli(p):\n",
    "    x = np.random.uniform(0,1)\n",
    "    if x <= p:\n",
    "        return 0\n",
    "    else:\n",
    "        return 1\n",
    "\n",
    "def binomial(n, p):\n",
    "    num = 0\n",
    "    for _ in range(n):\n",
    "        num += bernoulli(p)\n",
    "    return num\n",
    "\n",
    "n = 1000000\n",
    "x = np.zeros(n)\n",
    "for i in tqdm.tqdm(range(n)):\n",
    "    x[i] = binomial(20, 0.5)\n",
    "\n",
    "ax = sns.histplot(x, stat = 'probability', bins = 'auto', discrete = True)\n",
    "ax.set_title('Binomial Distribution')\n",
    "ax.set_xlabel('x')\n",
    "plt.xticks(np.arange(0, 21))\n",
    "plt.show()"
   ]
  },
  {
   "attachments": {},
   "cell_type": "markdown",
   "metadata": {},
   "source": [
    "(c) For Geometry distribution, let $X\\sim Geom(0.5)$.\n",
    "\n",
    "So $P(X=k) = q^kp = (0.5)^{k+1}$.\n",
    "\n",
    "We can regard $X$ as the time of failures before the first success.\n",
    "\n",
    "And we can simulate whether a task is success or failure, and then count the times of failures before the first success.\n",
    "\n",
    "So we can get the probability with a lot of times simulation."
   ]
  },
  {
   "cell_type": "code",
   "execution_count": 22,
   "metadata": {},
   "outputs": [
    {
     "name": "stderr",
     "output_type": "stream",
     "text": [
      "100%|██████████| 1000000/1000000 [00:05<00:00, 168119.99it/s]\n"
     ]
    },
    {
     "data": {
      "image/png": "[encoded data removed]",
      "text/plain": [
       "<Figure size 432x288 with 1 Axes>"
      ]
     },
     "metadata": {
      "needs_background": "light"
     },
     "output_type": "display_data"
    }
   ],
   "source": [
    "# (c) Geometric distribution\n",
    "import seaborn as sns\n",
    "import numpy as np\n",
    "import tqdm\n",
    "\n",
    "def geometry(p):\n",
    "    failure_time = 0\n",
    "    while True:\n",
    "        x = np.random.uniform(0,1)\n",
    "        if x <= p:\n",
    "            failure_time += 1\n",
    "        else:\n",
    "            return failure_time\n",
    "\n",
    "n = 1000000\n",
    "x = np.zeros(n)\n",
    "for i in tqdm.tqdm(range(n)):\n",
    "    x[i] = geometry(0.5)\n",
    "\n",
    "ax = sns.histplot(x, stat = 'probability', bins = 'auto', discrete = True)\n",
    "ax.set_title('Geometry Distribution')\n",
    "ax.set_xlabel('x')\n",
    "plt.xticks(np.arange(0, 21))\n",
    "plt.show()"
   ]
  },
  {
   "attachments": {},
   "cell_type": "markdown",
   "metadata": {},
   "source": [
    "(d) For Negative Binomial distribution, let $X\\sim NBin(10, 0.5)$.\n",
    "\n",
    "So $P(X=n) = {n+r-1\\choose r-1}p^rq^n = {n+10-1\\choose 10-1}(0.5)^r(0.5)^n = {n+9\\choose 9}(0.5)^{n+10}$.\n",
    "\n",
    "We can regard $X$ as the time of failures before the $r$-th(10th) success.\n",
    "\n",
    "So we can get the probability with a lot of times simulation."
   ]
  },
  {
   "cell_type": "code",
   "execution_count": 7,
   "metadata": {},
   "outputs": [
    {
     "name": "stderr",
     "output_type": "stream",
     "text": [
      "100%|██████████| 1000000/1000000 [01:00<00:00, 16477.92it/s]\n"
     ]
    },
    {
     "data": {
      "image/png": "[encoded data removed]",
      "text/plain": [
       "<Figure size 432x288 with 1 Axes>"
      ]
     },
     "metadata": {
      "needs_background": "light"
     },
     "output_type": "display_data"
    }
   ],
   "source": [
    "# (d) Negative Binomial distribution\n",
    "import seaborn as sns\n",
    "import numpy as np\n",
    "import tqdm\n",
    "\n",
    "def negative_binomial(r, p):\n",
    "    failure_time = 0\n",
    "    success_time = 0\n",
    "\n",
    "    while success_time < r:\n",
    "        x = np.random.uniform(0,1)\n",
    "        if x <= p:\n",
    "            failure_time += 1\n",
    "        else:\n",
    "            success_time += 1\n",
    "    return failure_time\n",
    "\n",
    "n = 1000000\n",
    "x = np.zeros(n)\n",
    "for i in tqdm.tqdm(range(n)):\n",
    "    x[i] = negative_binomial(10, 0.5)\n",
    "\n",
    "ax = sns.histplot(x, stat = 'probability', bins = 'auto', discrete = True)\n",
    "ax.set_title('Negative Binomial Distribution')\n",
    "ax.set_xlabel('x')\n",
    "plt.show()"
   ]
  },
  {
   "attachments": {},
   "cell_type": "markdown",
   "metadata": {},
   "source": [
    "# Problem 3\n",
    "\n"
   ]
  },
  {
   "attachments": {},
   "cell_type": "markdown",
   "metadata": {},
   "source": [
    "$U_i\\sim Unif(0,1)$\n",
    "\n",
    "$N=\\max \\left\\{n: \\prod\\limits_{i=1}^n U_i \\geq e^{-1}\\right\\}$\n",
    "\n",
    "\n",
    "So we can simulation this by multiple the generated $U_i$ one by one, until the result is less than $\\dfrac{1}{e}$"
   ]
  },
  {
   "cell_type": "code",
   "execution_count": 18,
   "metadata": {},
   "outputs": [
    {
     "name": "stderr",
     "output_type": "stream",
     "text": [
      "100%|██████████| 5000/5000 [00:00<00:00, 67768.77it/s]\n"
     ]
    }
   ],
   "source": [
    "import numpy as np\n",
    "import tqdm\n",
    "\n",
    "T = 5000 # generate 5000 values\n",
    "\n",
    "N = np.zeros(T) # N is the array of sample results\n",
    "\n",
    "for i in tqdm.tqdm(range(T)):\n",
    "    n = 1\n",
    "    mul = 1.0\n",
    "    while True:\n",
    "        x = np.random.uniform(0,1)\n",
    "        mul *= x\n",
    "        if mul < np.exp(-1):\n",
    "            N[i] = n - 1\n",
    "            break\n",
    "        else:\n",
    "            n += 1"
   ]
  },
  {
   "cell_type": "code",
   "execution_count": 19,
   "metadata": {},
   "outputs": [
    {
     "name": "stdout",
     "output_type": "stream",
     "text": [
      "E(N) =  1.0238\n"
     ]
    }
   ],
   "source": [
    "print(\"E(N) = \", np.mean(N))"
   ]
  },
  {
   "attachments": {},
   "cell_type": "markdown",
   "metadata": {},
   "source": [
    "(a) $E(N) = 1.0238$"
   ]
  },
  {
   "cell_type": "code",
   "execution_count": 20,
   "metadata": {},
   "outputs": [
    {
     "name": "stdout",
     "output_type": "stream",
     "text": [
      "Var(N) =  1.01763356\n"
     ]
    }
   ],
   "source": [
    "print(\"Var(N) = \", np.var(N))"
   ]
  },
  {
   "attachments": {},
   "cell_type": "markdown",
   "metadata": {},
   "source": [
    "(b) $Var(N) = 1.01763356$"
   ]
  },
  {
   "cell_type": "code",
   "execution_count": 21,
   "metadata": {},
   "outputs": [
    {
     "name": "stdout",
     "output_type": "stream",
     "text": [
      "P(N = 0) =  0.3592\n",
      "P(N = 1) =  0.369\n",
      "P(N = 2) =  0.1834\n",
      "P(N = 3) =  0.0694\n"
     ]
    }
   ],
   "source": [
    "print(\"P(N = 0) = \", np.sum(N == 0) / 5000)\n",
    "print(\"P(N = 1) = \", np.sum(N == 1) / 5000)\n",
    "print(\"P(N = 2) = \", np.sum(N == 2) / 5000)\n",
    "print(\"P(N = 3) = \", np.sum(N == 3) / 5000)"
   ]
  },
  {
   "attachments": {},
   "cell_type": "markdown",
   "metadata": {},
   "source": [
    "(c) $P(N = 0) = 0.3592$\n",
    "\n",
    "$P(N = 1) = 0.369$\n",
    "\n",
    "$P(N = 2) = 0.1834$\n",
    "\n",
    "$P(N = 3) = 0.0694$"
   ]
  },
  {
   "attachments": {},
   "cell_type": "markdown",
   "metadata": {},
   "source": [
    "(d) From the above results, we could estimate that the distribution of $X$ is $Pois(1)$.\n",
    "\n",
    "Verify: if $X\\sim Pois(1)$, then $P(X=k)=\\dfrac{e^{-\\lambda}\\lambda^k}{k!} = \\dfrac{e^{-1}}{k!}$\n",
    "\n",
    "and $E(X) = \\lambda = 1, Var(X) = \\lambda = 1$\n",
    "\n",
    "$P(X = 0) = 0.367879$\n",
    "\n",
    "$P(X = 1) = 0.367879$\n",
    "\n",
    "$P(X = 2) = 0.1839397$\n",
    "\n",
    "$P(X = 3) = 0.06131324$\n",
    "\n",
    "And we can see that the result of $X$ is really close to $N$, so we could estimate that $N\\sim Pois(1)$.\n",
    "\n",
    "Proof:\n",
    "\n",
    "$$\\prod\\limits_{i=1}^n U_i \\geq e^{-1}$$ \n",
    "$$i.e.\\ \\ \\sum\\limits_{i=1}^n \\ln U_i \\geq-1$$\n",
    "$$i.e.\\ \\ \\sum\\limits_{i=1}^n-\\ln U_i \\leq 1$$\n",
    "Let $U_i \\sim Unif(0,1)$\n",
    "\n",
    "and let $X_i=-\\ln U_i$.\n",
    "\n",
    "So $$U_i=e^{-X_i}$$\n",
    "i.e. $$1-U_i=1-e^{-X_i}$$\n",
    "\n",
    "Since $1-U_i\\sim Unif(0,1)$, and let $F(x) = 1-e^{-x}$.\n",
    "\n",
    "So $F(X_i)\\sim Unif(0,1)$\n",
    "\n",
    "so with the universality of Uniform, we can get that $F(X)$ is the CDF of $X_i$\n",
    "\n",
    "And since $F(x) = 1-e^{-x}$, which is the CDF of $Expo(1)$, so $X_i\\sim Expo(1)$\n",
    "\n",
    "So the PDF of $X_i$ is $f(x) = e^{-x}$\n",
    "\n",
    "So, $P(N = n)=$\n",
    "$$\n",
    "\\int_0^1 \\int_0^{1-x_1} \\int_0^{1-x_1-x_2} \\cdots \\int_0^{1-x_1-x_2-\\cdots x_{n-2}} \\int_{1-x_1-x_2-\\cdots x_{n-1}}^{+\\infty} f\\left(x_1\\right) \\cdot f\\left(x_2\\right) \\cdots f\\left(x_n\\right) d x_1 d x_2 \\cdots d x_n=\\frac{e^{-1}}{n !}\n",
    "$$\n",
    "\n",
    "And since the PDF of $Pois(\\lambda)$ is that $P(X=k)=\\dfrac{e^{-\\lambda}\\lambda^k}{k!}$\n",
    "\n",
    "So, $N \\sim Pois(1)$\n",
    "\n",
    "So above all, the distribution of $N$ is $Pois(1)$."
   ]
  },
  {
   "attachments": {},
   "cell_type": "markdown",
   "metadata": {},
   "source": [
    "# Problem 4\n"
   ]
  },
  {
   "cell_type": "code",
   "execution_count": 12,
   "metadata": {},
   "outputs": [
    {
     "name": "stderr",
     "output_type": "stream",
     "text": [
      "100%|██████████| 100000/100000 [00:00<00:00, 187071.67it/s]"
     ]
    },
    {
     "name": "stdout",
     "output_type": "stream",
     "text": [
      "The probability of the strategy of never-swithching: 0.33562\n",
      "The probability of the strategy of swithching: 0.66438\n"
     ]
    },
    {
     "name": "stderr",
     "output_type": "stream",
     "text": [
      "\n"
     ]
    }
   ],
   "source": [
    "import tqdm\n",
    "import random\n",
    "\n",
    "def monty_hall_stay():\n",
    "    door = [1, 2, 3]\n",
    "    car = random.sample(door, 1)[0]\n",
    "    choose = random.sample(door, 1)[0]\n",
    "    if car == choose:\n",
    "        return 1\n",
    "    return 0\n",
    "\n",
    "def monty_hall(): # return (stay, switch)\n",
    "    door = [1, 2, 3]\n",
    "    car = random.sample(door, 1)[0] # the car is behind the 'car'-th door\n",
    "    choose = random.sample(door, 1)[0] # we choose the 'choose'-th door\n",
    "\n",
    "    if car == choose:\n",
    "        return (1, 0)\n",
    "\n",
    "    door.remove(car) # monty will not open the door has car\n",
    "    door.remove(choose) # monty will not open the door we choose\n",
    "    monty = door[0] # monty only has one choice\n",
    "\n",
    "    door = [1, 2, 3]\n",
    "    door.remove(choose) # we will switch the door\n",
    "    door.remove(monty) # monty opened the door with no car\n",
    "\n",
    "    switch_choice = door[0] # we only has one choice\n",
    "\n",
    "    if switch_choice == car:\n",
    "        return (0, 1)\n",
    "    return (0, 0)\n",
    "\n",
    "\n",
    "win_stay = 0\n",
    "win_switch = 0\n",
    "\n",
    "simulate_time = 100000\n",
    "\n",
    "for _ in tqdm.tqdm(range(simulate_time)):\n",
    "    simulate_result = monty_hall()\n",
    "    win_stay += simulate_result[0]\n",
    "    win_switch += simulate_result[1]\n",
    "\n",
    "print(\"The probability of the strategy of never-swithching:\", win_stay / simulate_time)\n",
    "print(\"The probability of the strategy of swithching:\", win_switch / simulate_time)"
   ]
  },
  {
   "attachments": {},
   "cell_type": "markdown",
   "metadata": {},
   "source": [
    "(a) From the simulation, we can find that\n",
    "\n",
    "The probability of the strategy of never-swithching is $0.33562$.\n",
    "\n",
    "The probability of the strategy of swithching: $0.66438$.\n",
    "\n",
    "So the strategy of swithching is better than the strategy of never-swithching."
   ]
  },
  {
   "cell_type": "code",
   "execution_count": 13,
   "metadata": {},
   "outputs": [
    {
     "name": "stderr",
     "output_type": "stream",
     "text": [
      "100%|██████████| 100000/100000 [08:36<00:00, 193.56it/s]"
     ]
    },
    {
     "name": "stdout",
     "output_type": "stream",
     "text": [
      "The probability of the strategy1 when n = 4 is : 0.24963\n",
      "The probability of the strategy2 when n = 4 is : 0.62709\n",
      "The probability of the strategy3 when n = 4 is : 0.75037\n",
      "The probability of the strategy1 when n = 100 is : 0.00989\n",
      "The probability of the strategy2 when n = 100 is : 0.63243\n",
      "The probability of the strategy3 when n = 100 is : 0.99011\n"
     ]
    },
    {
     "name": "stderr",
     "output_type": "stream",
     "text": [
      "\n"
     ]
    }
   ],
   "source": [
    "import tqdm\n",
    "import numpy as np\n",
    "\n",
    "def monty_hall(n):\n",
    "    door = [i for i in range(1, n + 1)]\n",
    "    car = np.random.choice(door)\n",
    "    choose = np.random.choice(door)\n",
    "    strategy_1 = None\n",
    "    strategy_2 = None\n",
    "    strategy_3 = None\n",
    "\n",
    "    if car == choose:\n",
    "        strategy_1 = 1 # strategy 1: always choose the first door\n",
    "        strategy_3 = 0 # strategy 3: always choose the first door, switch when only 2 remains\n",
    "    else:\n",
    "        strategy_1 = 0\n",
    "        strategy_3 = 1\n",
    "\n",
    "    for _ in range(n - 2):\n",
    "        \n",
    "        monty = None\n",
    "\n",
    "        while True: # select a door that has not been opened and no car behind\n",
    "            monty = np.random.choice(door)\n",
    "            if monty != car and monty != choose:\n",
    "                break\n",
    "        \n",
    "        door.remove(monty)\n",
    "        \n",
    "        # select a door that has not been opened and not the door monty opened\n",
    "        # and the door is different from the door we choose\n",
    "        while True:\n",
    "            generate_choose = np.random.choice(door)\n",
    "            if generate_choose != choose:\n",
    "                choose = generate_choose\n",
    "                break\n",
    "        \n",
    "    if choose == car:\n",
    "        strategy_2 = 1 # strategy 2: always switch to the last door\n",
    "    else:\n",
    "        strategy_2 = 0\n",
    "\n",
    "    return (strategy_1, strategy_2, strategy_3)\n",
    "\n",
    "\n",
    "strategy1_4 = 0\n",
    "strategy2_4 = 0\n",
    "strategy3_4 = 0\n",
    "strategy1_100 = 0\n",
    "strategy2_100 = 0\n",
    "strategy3_100 = 0\n",
    "\n",
    "simulate_time = 100000\n",
    "\n",
    "for _ in tqdm.tqdm(range(simulate_time)):\n",
    "    simulate_result_4 = monty_hall(4)\n",
    "    strategy1_4 += simulate_result_4[0]\n",
    "    strategy2_4 += simulate_result_4[1]\n",
    "    strategy3_4 += simulate_result_4[2]\n",
    "\n",
    "    simulate_result_100 = monty_hall(100)\n",
    "    strategy1_100 += simulate_result_100[0]\n",
    "    strategy2_100 += simulate_result_100[1]\n",
    "    strategy3_100 += simulate_result_100[2]\n",
    "\n",
    "print(\"The probability of the strategy1 when n = 4 is :\", strategy1_4 / simulate_time)\n",
    "print(\"The probability of the strategy2 when n = 4 is :\", strategy2_4 / simulate_time)\n",
    "print(\"The probability of the strategy3 when n = 4 is :\", strategy3_4 / simulate_time)\n",
    "print(\"The probability of the strategy1 when n = 100 is :\", strategy1_100 / simulate_time)\n",
    "print(\"The probability of the strategy2 when n = 100 is :\", strategy2_100 / simulate_time)\n",
    "print(\"The probability of the strategy3 when n = 100 is :\", strategy3_100 / simulate_time)"
   ]
  },
  {
   "attachments": {},
   "cell_type": "markdown",
   "metadata": {},
   "source": [
    "(b) Strategy 1 : Select a door at random and stick with it throughout.\n",
    "\n",
    "strategy 2 : Select a door at random, then switch doors at every opportunity, choosing your door randomly at each step.\n",
    "\n",
    "Strategy 3 : Select a door at random, stick with your first choice until only two doors remain, and then switch.\n",
    "\n",
    "From simulation, we can estimate the probability with diffenert strategy when $n = 4$ and $n = 100$\n",
    "\n",
    "| strategy |  n = 4  | n = 100 |\n",
    "| -------- | ------- | ------- |\n",
    "|     1    | 0.24963 | 0.00989 |\n",
    "|     2    | 0.62709 | 0.63243 |\n",
    "|     3    | 0.75037 | 0.99011 | \n",
    "\n",
    "And we can see that the strategy3 is better than strategy2, and the strategy2 is better than strategy1.\n",
    "\n",
    "This could intuitely understand: the strategy3 can see what monty does to exclude erroneous choices, so it has the hightest probability to win."
   ]
  },
  {
   "attachments": {},
   "cell_type": "markdown",
   "metadata": {},
   "source": [
    "# Problem 5\n",
    "\n",
    "Suppose that the lattice is $n$-by-$m$.\n",
    "\n",
    "For each time, the sample mean $\\overline{x}$ provides an estimate of the percolatio threshold.\n",
    "\n",
    "$$\\overline{x} = \\dfrac{x_1 + x_2 + \\cdots + x_T}{T}$$\n",
    "\n",
    "And since the grid is $n$-by-$m$, and we use $s_i$ to count the number of open sites, so the percolation threshold of it via Monte Carlo Simulation is \n",
    "\n",
    "$$\\dfrac{s_1+\\cdots+s_T}{T\\cdot n\\cdot m}$$\n",
    "\n",
    "We can use the disjoint set union algorithm that we have learned in CS101 to check whether it flows from top to bottom.\n",
    "\n",
    "And for the $t$-th simulation, for each time, we uniformly randomly chosen on block site, and change it into open.\n",
    "\n",
    "If after this time, it flows from top to bottom, then we set the number of open sites to be $s_t$.\n",
    "\n",
    "Then we start the $(t+1)$-th simulation."
   ]
  },
  {
   "cell_type": "code",
   "execution_count": 14,
   "metadata": {},
   "outputs": [],
   "source": [
    "import array\n",
    "import random\n",
    "import tqdm\n",
    "\n",
    "def get_index(m, i, j):\n",
    "    return i * m + j\n",
    "\n",
    "fa = None\n",
    "def generate_dsu(n, m): # generate the disjoint set union\n",
    "    global fa\n",
    "\n",
    "    fa = array.array('i', range(n * m))\n",
    "    for i in range(m):\n",
    "        fa[i] = 0\n",
    "    \n",
    "    for i in range((n - 1) * m, n * m):\n",
    "        fa[i] = n * m - 1\n",
    "\n",
    "def getfa(x): # find the father of the point\n",
    "    global fa\n",
    "    if fa[x] != x:\n",
    "        fa[x] = getfa(fa[x])\n",
    "    return fa[x]\n",
    "\n",
    "def merge(x, y): # merge two sets\n",
    "    global fa\n",
    "    fx = getfa(x)\n",
    "    fy = getfa(y)\n",
    "    if fx != fy:\n",
    "        fa[fx] = fy\n",
    "\n",
    "neibor = array.array('i', [-1, 0, 1, 0, 0, -1, 0, 1]) # moving directions\n",
    "\n",
    "def simulate(n, m):\n",
    "    generate_dsu(n, m) # initialization\n",
    "    grid = array.array('i', range(n * m)) # store the remaining blocked sites \n",
    "    index = array.array('i', range(n * m))\n",
    "    random.shuffle(index) # the order of opening sites\n",
    "\n",
    "    for xi in range(n * m):\n",
    "        num = index[xi]\n",
    "        x = grid[num] // m\n",
    "        y = grid[num] % m\n",
    "        grid[num] = -1 # uniformly randomly chonsen one blocked site, and change it into open.\n",
    "\n",
    "        for i in range(4):\n",
    "            x_neibor = x + neibor[i * 2 + 0]\n",
    "            y_neibor = y + neibor[i * 2 + 1]\n",
    "\n",
    "            # connection with the newly opened site's neibor\n",
    "            if 0 <= x_neibor < n and 0 <= y_neibor < m and grid[get_index(m, x_neibor, y_neibor)] == -1:\n",
    "                merge(get_index(m, x, y), get_index(m, x_neibor, y_neibor))\n",
    "\n",
    "            # it flows from top to bottom\n",
    "            if getfa(get_index(m, n - 1, 0)) == getfa(get_index(m, 0, 0)):\n",
    "                return xi + 1\n",
    "\n",
    "def Monte_Carlo(n, m, T):\n",
    "    sum = 0\n",
    "\n",
    "    for _ in tqdm.tqdm(range(T)):\n",
    "        sum += simulate(n, m) # each time's number of open sites\n",
    "    \n",
    "    percolation_threshold = sum / (T * n * m)\n",
    "    print(percolation_threshold)\n",
    "    print(percolation_threshold) # it may have bugs due to tqdm, so print many times to avoid missing print out"
   ]
  },
  {
   "cell_type": "code",
   "execution_count": 15,
   "metadata": {},
   "outputs": [
    {
     "name": "stderr",
     "output_type": "stream",
     "text": [
      "100%|██████████| 10000/10000 [00:22<00:00, 453.33it/s]"
     ]
    },
    {
     "name": "stdout",
     "output_type": "stream",
     "text": [
      "0.59105825\n",
      "0.59105825\n"
     ]
    },
    {
     "name": "stderr",
     "output_type": "stream",
     "text": [
      "\n"
     ]
    }
   ],
   "source": [
    "Monte_Carlo(20, 20, 10000)"
   ]
  },
  {
   "cell_type": "code",
   "execution_count": 16,
   "metadata": {},
   "outputs": [
    {
     "name": "stderr",
     "output_type": "stream",
     "text": [
      "100%|██████████| 10000/10000 [02:35<00:00, 64.32it/s]"
     ]
    },
    {
     "name": "stdout",
     "output_type": "stream",
     "text": [
      "0.59209268\n",
      "0.59209268\n"
     ]
    },
    {
     "name": "stderr",
     "output_type": "stream",
     "text": [
      "\n"
     ]
    }
   ],
   "source": [
    "Monte_Carlo(50, 50, 10000)"
   ]
  },
  {
   "cell_type": "code",
   "execution_count": 25,
   "metadata": {},
   "outputs": [
    {
     "name": "stderr",
     "output_type": "stream",
     "text": [
      "100%|██████████| 10000/10000 [10:37<00:00, 15.70it/s]"
     ]
    },
    {
     "name": "stdout",
     "output_type": "stream",
     "text": [
      "0.59242937\n",
      "0.59242937\n"
     ]
    },
    {
     "name": "stderr",
     "output_type": "stream",
     "text": [
      "\n"
     ]
    }
   ],
   "source": [
    "Monte_Carlo(100, 100, 10000)"
   ]
  },
  {
   "attachments": {},
   "cell_type": "markdown",
   "metadata": {},
   "source": [
    "### result\n",
    "From the simulation above, we could get the result that\n",
    "\n",
    "|  n  |  m  |   T   |   result   |\n",
    "| --- | --- | ----- | ---------- |\n",
    "| 20  | 20  | 10000 | 0.59105825 |\n",
    "| 50  | 50  | 10000 | 0.59209268 |\n",
    "| 100 | 100 | 10000 | 0.59242937 |\n",
    "\n",
    "Where on line is for a $n$-by-$n$ grid with $T$ times of Monte Carlo simulation.\n",
    "\n",
    "The result is close to the conclusion that the percolation threshold is close to $0.593$."
   ]
  }
 ],
 "metadata": {
  "kernelspec": {
   "display_name": "Python 3",
   "language": "python",
   "name": "python3"
  },
  "language_info": {
   "codemirror_mode": {
    "name": "ipython",
    "version": 3
   },
   "file_extension": ".py",
   "mimetype": "text/x-python",
   "name": "python",
   "nbconvert_exporter": "python",
   "pygments_lexer": "ipython3",
   "version": "3.9.13"
  }
 },
 "nbformat": 4,
 "nbformat_minor": 4
}
